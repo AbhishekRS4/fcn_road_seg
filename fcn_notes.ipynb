{
 "cells": [
  {
   "cell_type": "markdown",
   "metadata": {},
   "source": [
    "# Notes on FCN implementation for road segmentation"
   ]
  },
  {
   "cell_type": "markdown",
   "metadata": {},
   "source": [
    "* This is implementation of [FCN](https://arxiv.org/pdf/1605.06211.pdf) [Fully Convolutional Networks] for road segmentation.\n",
    "* The __VGG-16 encoder pretrained on imagenet__ is used. The input features are downsampled by a factor of 32 in the encoder stage 5.\n",
    "* The change from the original implementation is the use of __ELU__ [Exponential Linear Unit] instead of __ReLU__ [Rectified Linear Unit] and different number of feature maps in the decoder.\n",
    "* The upsampling is performed by __transposed convolution__ with varied kernel size and appropriate strides [upsampling factor]."
   ]
  },
  {
   "cell_type": "markdown",
   "metadata": {},
   "source": [
    "### FCN-32"
   ]
  },
  {
   "cell_type": "markdown",
   "metadata": {},
   "source": [
    "* In FCN-32 decoder, __upsampling is performed by a factor of 32 on corresponding features from pool5 and pixel-wise classification is then performed using softmax__."
   ]
  },
  {
   "cell_type": "markdown",
   "metadata": {},
   "source": [
    "### FCN-16"
   ]
  },
  {
   "cell_type": "markdown",
   "metadata": {},
   "source": [
    "* In FCN-16 decoder, __upsampling is performed by a factor of 2 on corresponding features from pool5, merged with corresponding features from pool4__.\n",
    "* __The resulting features are upsampled by a factor of 16 and pixel-wise classification is then performed using softmax__."
   ]
  },
  {
   "cell_type": "markdown",
   "metadata": {},
   "source": [
    "### FCN-8"
   ]
  },
  {
   "cell_type": "markdown",
   "metadata": {},
   "source": [
    "* In FCN-32 decoder, __upsampling is performed by a factor of 2 on corresponding features from pool5, merged with corresponding features from pool4__.\n",
    "* __This is upsampled by a factor of 2 and merged with correspnding features from pool3__.\n",
    "* __The resulting features are upsampled by a factor of 8 and pixel-wise classification is then performed using softmax__."
   ]
  },
  {
   "cell_type": "markdown",
   "metadata": {},
   "source": [
    "### Loss functions Used"
   ]
  },
  {
   "cell_type": "markdown",
   "metadata": {},
   "source": [
    "1. Cross Entropy loss\n",
    "2. Dice Score based loss\n",
    "3. Cross Entropy + Dice Score based loss"
   ]
  },
  {
   "cell_type": "markdown",
   "metadata": {},
   "source": [
    "* __Sorensen Dice Coeff__ $$SorensenDiceCoeff = \\frac{2gp}{(g + p)}$$ where g is groundtruth, p is prediction\n",
    "\n",
    "\n",
    "* __Dice Score based loss__ $$ Dice Loss = -\\log(SorensenDiceCoeff)$$"
   ]
  },
  {
   "cell_type": "markdown",
   "metadata": {},
   "source": [
    "* There is a small improvement when a combined [cross entropy + dice loss] loss function is used."
   ]
  },
  {
   "cell_type": "markdown",
   "metadata": {},
   "source": [
    "* Going further, Jaccard Dice Coeff can also be used which is defined as follows\n",
    "$$JaccardCoeff = \\frac{gp}{(g + p - gp)}$$"
   ]
  },
  {
   "cell_type": "code",
   "execution_count": null,
   "metadata": {},
   "outputs": [],
   "source": []
  }
 ],
 "metadata": {
  "kernelspec": {
   "display_name": "Python 3",
   "language": "python",
   "name": "python3"
  },
  "language_info": {
   "codemirror_mode": {
    "name": "ipython",
    "version": 3
   },
   "file_extension": ".py",
   "mimetype": "text/x-python",
   "name": "python",
   "nbconvert_exporter": "python",
   "pygments_lexer": "ipython3",
   "version": "3.5.2"
  }
 },
 "nbformat": 4,
 "nbformat_minor": 2
}
