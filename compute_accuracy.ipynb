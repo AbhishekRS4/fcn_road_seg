{
 "cells": [
  {
   "cell_type": "code",
   "execution_count": 1,
   "metadata": {},
   "outputs": [],
   "source": [
    "import os\n",
    "import numpy as np\n",
    "import cv2\n",
    "from sklearn.metrics import accuracy_score"
   ]
  },
  {
   "cell_type": "code",
   "execution_count": 2,
   "metadata": {},
   "outputs": [],
   "source": [
    "def get_masks(groundtruth_masks_path, predicted_masks_path, groundtruth_masks_list):\n",
    "    groundtruth_labels = list()\n",
    "    predicted_labels = list()\n",
    "    \n",
    "    for mask in groundtruth_masks_list:\n",
    "        temp_gt_mask = cv2.imread(os.path.join(groundtruth_masks_path, mask.split('.')[0] + '_L.png'))\n",
    "        temp_pred_mask = cv2.imread(os.path.join(predicted_masks_path, 'mask_' + mask))\n",
    "        \n",
    "        temp_gt_label = np.zeros((480, 640, 1), dtype = np.int16)\n",
    "        temp_pred_label = np.zeros((480, 640, 1), dtype = np.int16)\n",
    "        \n",
    "        temp_gt_label[:, :, 0] = 1 * np.all((temp_gt_mask[:, :] == [128, 64, 128]), axis = 2)\n",
    "        temp_pred_label[:, :, 0] = 1 * np.all((temp_pred_mask[:, :] == [0, 255, 0]), axis = 2)\n",
    "        \n",
    "        groundtruth_labels.append(temp_gt_label)\n",
    "        predicted_labels.append(temp_pred_label)\n",
    "        \n",
    "    groundtruth_labels = np.array(groundtruth_labels).reshape(-1)\n",
    "    predicted_labels = np.array(predicted_labels).reshape(-1)\n",
    "    \n",
    "    return groundtruth_labels, predicted_labels"
   ]
  },
  {
   "cell_type": "code",
   "execution_count": 3,
   "metadata": {},
   "outputs": [],
   "source": [
    "model_dir = 'model_fcn32_ce_250'\n",
    "\n",
    "train_files_path = '/home/abhishek/Desktop/datasets/camvid/inputs_resized/'\n",
    "groundtruth_masks_path = '/home/abhishek/Desktop/datasets/camvid/masks_resized/'\n",
    "predicted_masks_path = os.path.join(os.getcwd(), os.path.join(model_dir, 'masks'))\n",
    "\n",
    "all_list = os.listdir(train_files_path)\n",
    "\n",
    "train_list = list(np.load(os.path.join(model_dir, 'train_list.npy')))\n",
    "valid_list = list(np.load(os.path.join(model_dir, 'valid_list.npy')))\n",
    "test_list = list(set(all_list).difference(set(train_list + valid_list)))"
   ]
  },
  {
   "cell_type": "code",
   "execution_count": 4,
   "metadata": {},
   "outputs": [],
   "source": [
    "train_groundtruth_labels, train_predicted_labels = get_masks(groundtruth_masks_path, predicted_masks_path, train_list)\n",
    "valid_groundtruth_labels, valid_predicted_labels = get_masks(groundtruth_masks_path, predicted_masks_path, valid_list)\n",
    "test_groundtruth_labels, test_predicted_labels = get_masks(groundtruth_masks_path, predicted_masks_path, test_list)"
   ]
  },
  {
   "cell_type": "code",
   "execution_count": 5,
   "metadata": {},
   "outputs": [
    {
     "data": {
      "text/plain": [
       "(701, 336, 14, 351)"
      ]
     },
     "execution_count": 5,
     "metadata": {},
     "output_type": "execute_result"
    }
   ],
   "source": [
    "len(all_list), len(train_list), len(valid_list), len(test_list)"
   ]
  },
  {
   "cell_type": "code",
   "execution_count": 6,
   "metadata": {},
   "outputs": [
    {
     "name": "stdout",
     "output_type": "stream",
     "text": [
      "Training Accuracy : 0.9716627042255704\n"
     ]
    }
   ],
   "source": [
    "print('Training Accuracy : ' + str(accuracy_score(train_groundtruth_labels, train_predicted_labels)))"
   ]
  },
  {
   "cell_type": "code",
   "execution_count": 7,
   "metadata": {},
   "outputs": [
    {
     "name": "stdout",
     "output_type": "stream",
     "text": [
      "Validation Accuracy : 0.9554740978422619\n"
     ]
    }
   ],
   "source": [
    "print('Validation Accuracy : ' + str(accuracy_score(valid_groundtruth_labels, valid_predicted_labels)))"
   ]
  },
  {
   "cell_type": "code",
   "execution_count": 8,
   "metadata": {},
   "outputs": [
    {
     "name": "stdout",
     "output_type": "stream",
     "text": [
      "Test Accuracy : 0.9605652191654795\n"
     ]
    }
   ],
   "source": [
    "print('Test Accuracy : ' + str(accuracy_score(test_groundtruth_labels, test_predicted_labels)))"
   ]
  },
  {
   "cell_type": "code",
   "execution_count": null,
   "metadata": {},
   "outputs": [],
   "source": []
  }
 ],
 "metadata": {
  "kernelspec": {
   "display_name": "Python 3",
   "language": "python",
   "name": "python3"
  },
  "language_info": {
   "codemirror_mode": {
    "name": "ipython",
    "version": 3
   },
   "file_extension": ".py",
   "mimetype": "text/x-python",
   "name": "python",
   "nbconvert_exporter": "python",
   "pygments_lexer": "ipython3",
   "version": "3.5.2"
  }
 },
 "nbformat": 4,
 "nbformat_minor": 2
}
